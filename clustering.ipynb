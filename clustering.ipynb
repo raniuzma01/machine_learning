{
 "cells": [
  {
   "cell_type": "markdown",
   "metadata": {},
   "source": [
    "## Clustering  \n",
    "- kisi cheez ko ikatha krna base on their khubian\n",
    "#### Unsupervised learning    \n",
    "- jis m hm data provide ni krty , training ni krty, y khud hi features ki base p cluster krty hn, "
   ]
  },
  {
   "cell_type": "markdown",
   "metadata": {},
   "source": [
    "- Grouping of individuals based on their common characteristics\n",
    "- Segmentation\n",
    "- Each cluster have something in common\n",
    "- Create profile of each group\n",
    "     - middle aged + rich\n",
    "     - young and + middle income\n",
    "     - young + low income\n",
    "        "
   ]
  },
  {
   "cell_type": "markdown",
   "metadata": {},
   "source": [
    "## Unsuperviseed\n",
    "- based on the similarities to each others\n",
    "- grouping\n",
    "\n",
    "##### Customer Segmentation is one of popular usage of clustring   in business analysis"
   ]
  },
  {
   "cell_type": "markdown",
   "metadata": {},
   "source": [
    "# Cluster:\n",
    "- A group of object that are similar to other subjects in the cluster and \n",
    "- dissimilar to data points in other cluster\n",
    "- 5: 06"
   ]
  },
  {
   "cell_type": "code",
   "execution_count": null,
   "metadata": {},
   "outputs": [],
   "source": []
  }
 ],
 "metadata": {
  "kernelspec": {
   "display_name": "Python 3.10.5 64-bit",
   "language": "python",
   "name": "python3"
  },
  "language_info": {
   "name": "python",
   "version": "3.10.5"
  },
  "orig_nbformat": 4,
  "vscode": {
   "interpreter": {
    "hash": "fbe58ca63fe33f9eeae9e71d10368d2b4a57f2b1b395836210cc60d362c66949"
   }
  }
 },
 "nbformat": 4,
 "nbformat_minor": 2
}
