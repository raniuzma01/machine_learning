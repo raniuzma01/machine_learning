{
 "cells": [
  {
   "cell_type": "markdown",
   "metadata": {},
   "source": [
    "# Machine Learning\n",
    "### What is Machine Learning?\n",
    "- As the name suggests, Machine Learning ** allows machines to learn ** and ** make decisions** smartly.\n",
    "- In Machine Learning, machines can learn from the data provided or theri own experience. It depends upon the type of machine leaniing.   (emberrr)\n",
    "- \n",
    "# Assignment\n",
    "define all four types and their model and algorithms of ML"
   ]
  },
  {
   "cell_type": "markdown",
   "metadata": {},
   "source": []
  }
 ],
 "metadata": {
  "kernelspec": {
   "display_name": "Python 3.10.5 64-bit",
   "language": "python",
   "name": "python3"
  },
  "language_info": {
   "name": "python",
   "version": "3.10.5"
  },
  "orig_nbformat": 4,
  "vscode": {
   "interpreter": {
    "hash": "fbe58ca63fe33f9eeae9e71d10368d2b4a57f2b1b395836210cc60d362c66949"
   }
  }
 },
 "nbformat": 4,
 "nbformat_minor": 2
}
